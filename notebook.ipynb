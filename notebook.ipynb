{
 "cells": [
  {
   "cell_type": "code",
   "execution_count": 1,
   "metadata": {},
   "outputs": [
    {
     "data": {
      "text/plain": [
       "6697"
      ]
     },
     "execution_count": 1,
     "metadata": {},
     "output_type": "execute_result"
    }
   ],
   "source": [
    "import util\n",
    "dataset = util.loaddata()\n",
    "len(dataset)"
   ]
  },
  {
   "cell_type": "code",
   "execution_count": 2,
   "metadata": {},
   "outputs": [
    {
     "data": {
      "text/plain": [
       "Race(race_id='2019102708040905', num=14, tan_odds=[1.5, 42.6, 36.0, 105.9, 14.3, 66.1, 16.4, 57.0, 88.6, 32.9, 77.1, 6.9, 7.3, 402.4], ren_odds=659.2, order=[11, 0, 3, 6, 8, 9, 4, 2, 10, 12, 5, 7, 13, 1])"
      ]
     },
     "execution_count": 2,
     "metadata": {},
     "output_type": "execute_result"
    }
   ],
   "source": [
    "dataset[100]"
   ]
  },
  {
   "cell_type": "code",
   "execution_count": 40,
   "metadata": {},
   "outputs": [
    {
     "data": {
      "image/png": "[encoded data removed]",
      "text/plain": [
       "<IPython.core.display.Image object>"
      ]
     },
     "execution_count": 40,
     "metadata": {},
     "output_type": "execute_result"
    }
   ],
   "source": [
    "import numpy\n",
    "from collections import Counter\n",
    "from gnuplot import Figure, Gnuplot\n",
    "import random\n",
    "\n",
    "\n",
    "wallet = 0\n",
    "wallet_history = [0]\n",
    "\n",
    "\n",
    "for race in random.sample(dataset, 300):\n",
    "    # print(race)\n",
    "    a = [(odd, i) for i, odd in enumerate(race.tan_odds)]\n",
    "    a.sort()\n",
    "    difs = []\n",
    "    for i in range(race.num):\n",
    "        if i == 0:\n",
    "            difs.append(a[1][0] - a[0][0])\n",
    "        elif i == race.num - 1:\n",
    "            difs.append(a[i][0] - a[i-1][0])\n",
    "        else:\n",
    "            difs.append((a[i+1][0] - a[i-1][0]) / 2)\n",
    "    \n",
    "    sigmas = {i: 10 * (max(1, x) ** -0.3) for (_, i), x in zip(a, difs)}\n",
    "    \n",
    "    params = {}\n",
    "    for i in range(race.num):\n",
    "        mu = race.tan_odds[i] ** 0.8\n",
    "        sigma = sigmas[i]\n",
    "        params[i] = (mu, sigma)\n",
    "    # print(params)\n",
    "\n",
    "    cx = Counter()\n",
    "\n",
    "    for _ in range(1000):\n",
    "        result = []\n",
    "        for i in range(race.num):\n",
    "            x = numpy.random.normal(*params[i])\n",
    "            result.append((x, i))\n",
    "        result.sort()\n",
    "        pred_order = [i for _, i in result]\n",
    "        cx[tuple(pred_order[:3])] += 1\n",
    "\n",
    "    # print(set(cx.most_common(1)[0][0]))\n",
    "    if set(cx.most_common(1)[0][0]) == set(race.order[:3]):\n",
    "        wallet += 100 * race.ren_odds\n",
    "    wallet -= 100\n",
    "    wallet_history.append(wallet)\n",
    "\n",
    "\n",
    "with Gnuplot() as g:\n",
    "    g.set('terminal', 'png')\n",
    "    g.set('output', '\"/tmp/out.png\"')\n",
    "    g.set('grid')\n",
    "    g.var('$dat', wallet_history)\n",
    "    fig = Figure('$dat', _with='lines', title='Osaifu')\n",
    "    g.plot(fig)\n",
    "    \n",
    "    \n",
    "from IPython.display import Image\n",
    "Image(\"/tmp/out.png\")"
   ]
  }
 ],
 "metadata": {
  "kernelspec": {
   "display_name": "Python 3",
   "language": "python",
   "name": "python3"
  },
  "language_info": {
   "codemirror_mode": {
    "name": "ipython",
    "version": 3
   },
   "file_extension": ".py",
   "mimetype": "text/x-python",
   "name": "python",
   "nbconvert_exporter": "python",
   "pygments_lexer": "ipython3",
   "version": "3.6.9"
  }
 },
 "nbformat": 4,
 "nbformat_minor": 2
}
